{
 "cells": [
  {
   "cell_type": "code",
   "execution_count": 1,
   "metadata": {},
   "outputs": [],
   "source": [
    "from pyspark.sql import SparkSession\n",
    "import pyspark.sql.functions as F\n",
    "from pyspark.sql import DataFrame\n",
    "from pyspark.sql.functions import col, concat_ws, collect_list\n",
    "\n",
    "import pandas as pd"
   ]
  },
  {
   "cell_type": "code",
   "execution_count": 2,
   "metadata": {},
   "outputs": [
    {
     "name": "stderr",
     "output_type": "stream",
     "text": [
      "Setting default log level to \"WARN\".\n",
      "To adjust logging level use sc.setLogLevel(newLevel). For SparkR, use setLogLevel(newLevel).\n",
      "24/03/22 15:01:47 INFO SparkEnv: Registering MapOutputTracker\n",
      "24/03/22 15:01:47 INFO SparkEnv: Registering BlockManagerMaster\n",
      "24/03/22 15:01:47 INFO SparkEnv: Registering BlockManagerMasterHeartbeat\n",
      "24/03/22 15:01:47 INFO SparkEnv: Registering OutputCommitCoordinator\n"
     ]
    }
   ],
   "source": [
    "spark = SparkSession.builder.getOrCreate()"
   ]
  },
  {
   "cell_type": "markdown",
   "metadata": {},
   "source": [
    "## Target prioritisation validation based on Open Targets score for IBD"
   ]
  },
  {
   "cell_type": "markdown",
   "metadata": {},
   "source": [
    "### Export Target-IBD associations from Open Targets platform\n",
    "##### Sources of evidence: Genetic evidence (excluding PanelApp, gene2phenotype, Orphanet, Clingen), Animal models, Expression Atlas"
   ]
  },
  {
   "cell_type": "code",
   "execution_count": 16,
   "metadata": {},
   "outputs": [
    {
     "name": "stderr",
     "output_type": "stream",
     "text": [
      "24/03/22 15:29:12 WARN CacheManager: Asked to cache already cached data.\n"
     ]
    }
   ],
   "source": [
    "# Target-Disease indirect (propagated) evidence from Open Targets Platform\n",
    "evidence_path_ByDatatype = \"gs://open-targets-data-releases/23.12/output/etl/parquet/associationByDatatypeIndirect\"\n",
    "evidence_ByDatatype = spark.read.parquet(evidence_path_ByDatatype)\n",
    "\n",
    "# Filter to only IBD associations\n",
    "evidence_ibd_ByDatatype = evidence_ByDatatype.filter(\n",
    "    (col(\"diseaseId\") == \"EFO_0003767\") \n",
    ").persist()\n",
    "\n",
    "# Filter to only IBD associations by any genetic_association, animal_model\n",
    "targets_ibd_ByDatatype = evidence_ibd_ByDatatype \\\n",
    "    .groupBy(\"targetId\") \\\n",
    "    .agg(concat_ws(\";\", collect_list(\"datatypeId\")).alias(\"datatypeId\")) "
   ]
  },
  {
   "cell_type": "code",
   "execution_count": 18,
   "metadata": {},
   "outputs": [
    {
     "name": "stderr",
     "output_type": "stream",
     "text": [
      "[Stage 19:=================================================>        (6 + 1) / 7]\r"
     ]
    },
    {
     "name": "stdout",
     "output_type": "stream",
     "text": [
      "+---------------+--------------------+\n",
      "|       targetId|         datatypeIds|\n",
      "+---------------+--------------------+\n",
      "|ENSG00000000938|literature;affect...|\n",
      "|ENSG00000000971|          literature|\n",
      "|ENSG00000001084|          literature|\n",
      "|ENSG00000001626|animal_model;gene...|\n",
      "|ENSG00000001630|          literature|\n",
      "|ENSG00000002016|          literature|\n",
      "|ENSG00000002330|          literature|\n",
      "|ENSG00000002549|          literature|\n",
      "|ENSG00000002726|          literature|\n",
      "|ENSG00000002746|          literature|\n",
      "|ENSG00000002822|          literature|\n",
      "|ENSG00000002933|          literature|\n",
      "|ENSG00000003137|          literature|\n",
      "|ENSG00000003147|          literature|\n",
      "|ENSG00000003400|          literature|\n",
      "|ENSG00000003402|          literature|\n",
      "|ENSG00000003436|literature;rna_ex...|\n",
      "|ENSG00000003989|          literature|\n",
      "|ENSG00000004139|          literature|\n",
      "|ENSG00000004399|          literature|\n",
      "+---------------+--------------------+\n",
      "only showing top 20 rows\n",
      "\n"
     ]
    },
    {
     "name": "stderr",
     "output_type": "stream",
     "text": [
      "                                                                                \r"
     ]
    }
   ],
   "source": [
    "targets_ibd_ByDatatype.show()"
   ]
  },
  {
   "cell_type": "code",
   "execution_count": 17,
   "metadata": {},
   "outputs": [
    {
     "ename": "AnalysisException",
     "evalue": "Column 'datatypeId' does not exist. Did you mean one of the following? [datatypeIds, targetId];\n'Filter ((Contains('datatypeId, genetic_association) OR Contains('datatypeId, animal_model)) OR Contains('datatypeId, rna_expression))\n+- Aggregate [targetId#1262], [targetId#1262, concat_ws(;, collect_list(datatypeId#1263, 0, 0)) AS datatypeIds#1278]\n   +- Filter (diseaseId#1261 = EFO_0003767)\n      +- Relation [diseaseId#1261,targetId#1262,datatypeId#1263,score#1264,evidenceCount#1265L] parquet\n",
     "output_type": "error",
     "traceback": [
      "\u001b[0;31m---------------------------------------------------------------------------\u001b[0m",
      "\u001b[0;31mAnalysisException\u001b[0m                         Traceback (most recent call last)",
      "\u001b[0;32m/tmp/ipykernel_16163/3812685040.py\u001b[0m in \u001b[0;36m<cell line: 3>\u001b[0;34m()\u001b[0m\n\u001b[1;32m      1\u001b[0m \u001b[0;31m# Filter to only genetic_association (any), animal_model, rna_expression\u001b[0m\u001b[0;34m\u001b[0m\u001b[0;34m\u001b[0m\u001b[0m\n\u001b[1;32m      2\u001b[0m \u001b[0;34m\u001b[0m\u001b[0m\n\u001b[0;32m----> 3\u001b[0;31m targets_ibd_filter = targets_ibd_ByDatatype.filter(\n\u001b[0m\u001b[1;32m      4\u001b[0m         \u001b[0mF\u001b[0m\u001b[0;34m.\u001b[0m\u001b[0mcol\u001b[0m\u001b[0;34m(\u001b[0m\u001b[0;34m\"datatypeId\"\u001b[0m\u001b[0;34m)\u001b[0m\u001b[0;34m.\u001b[0m\u001b[0mcontains\u001b[0m\u001b[0;34m(\u001b[0m\u001b[0;34m\"genetic_association\"\u001b[0m\u001b[0;34m)\u001b[0m \u001b[0;34m|\u001b[0m\u001b[0;34m\u001b[0m\u001b[0;34m\u001b[0m\u001b[0m\n\u001b[1;32m      5\u001b[0m         \u001b[0mF\u001b[0m\u001b[0;34m.\u001b[0m\u001b[0mcol\u001b[0m\u001b[0;34m(\u001b[0m\u001b[0;34m\"datatypeId\"\u001b[0m\u001b[0;34m)\u001b[0m\u001b[0;34m.\u001b[0m\u001b[0mcontains\u001b[0m\u001b[0;34m(\u001b[0m\u001b[0;34m\"animal_model\"\u001b[0m\u001b[0;34m)\u001b[0m \u001b[0;34m|\u001b[0m\u001b[0;34m\u001b[0m\u001b[0;34m\u001b[0m\u001b[0m\n",
      "\u001b[0;32m/usr/lib/spark/python/pyspark/sql/dataframe.py\u001b[0m in \u001b[0;36mfilter\u001b[0;34m(self, condition)\u001b[0m\n\u001b[1;32m   2077\u001b[0m             \u001b[0mjdf\u001b[0m \u001b[0;34m=\u001b[0m \u001b[0mself\u001b[0m\u001b[0;34m.\u001b[0m\u001b[0m_jdf\u001b[0m\u001b[0;34m.\u001b[0m\u001b[0mfilter\u001b[0m\u001b[0;34m(\u001b[0m\u001b[0mcondition\u001b[0m\u001b[0;34m)\u001b[0m\u001b[0;34m\u001b[0m\u001b[0;34m\u001b[0m\u001b[0m\n\u001b[1;32m   2078\u001b[0m         \u001b[0;32melif\u001b[0m \u001b[0misinstance\u001b[0m\u001b[0;34m(\u001b[0m\u001b[0mcondition\u001b[0m\u001b[0;34m,\u001b[0m \u001b[0mColumn\u001b[0m\u001b[0;34m)\u001b[0m\u001b[0;34m:\u001b[0m\u001b[0;34m\u001b[0m\u001b[0;34m\u001b[0m\u001b[0m\n\u001b[0;32m-> 2079\u001b[0;31m             \u001b[0mjdf\u001b[0m \u001b[0;34m=\u001b[0m \u001b[0mself\u001b[0m\u001b[0;34m.\u001b[0m\u001b[0m_jdf\u001b[0m\u001b[0;34m.\u001b[0m\u001b[0mfilter\u001b[0m\u001b[0;34m(\u001b[0m\u001b[0mcondition\u001b[0m\u001b[0;34m.\u001b[0m\u001b[0m_jc\u001b[0m\u001b[0;34m)\u001b[0m\u001b[0;34m\u001b[0m\u001b[0;34m\u001b[0m\u001b[0m\n\u001b[0m\u001b[1;32m   2080\u001b[0m         \u001b[0;32melse\u001b[0m\u001b[0;34m:\u001b[0m\u001b[0;34m\u001b[0m\u001b[0;34m\u001b[0m\u001b[0m\n\u001b[1;32m   2081\u001b[0m             \u001b[0;32mraise\u001b[0m \u001b[0mTypeError\u001b[0m\u001b[0;34m(\u001b[0m\u001b[0;34m\"condition should be string or Column\"\u001b[0m\u001b[0;34m)\u001b[0m\u001b[0;34m\u001b[0m\u001b[0;34m\u001b[0m\u001b[0m\n",
      "\u001b[0;32m/opt/conda/default/lib/python3.10/site-packages/py4j/java_gateway.py\u001b[0m in \u001b[0;36m__call__\u001b[0;34m(self, *args)\u001b[0m\n\u001b[1;32m   1319\u001b[0m \u001b[0;34m\u001b[0m\u001b[0m\n\u001b[1;32m   1320\u001b[0m         \u001b[0manswer\u001b[0m \u001b[0;34m=\u001b[0m \u001b[0mself\u001b[0m\u001b[0;34m.\u001b[0m\u001b[0mgateway_client\u001b[0m\u001b[0;34m.\u001b[0m\u001b[0msend_command\u001b[0m\u001b[0;34m(\u001b[0m\u001b[0mcommand\u001b[0m\u001b[0;34m)\u001b[0m\u001b[0;34m\u001b[0m\u001b[0;34m\u001b[0m\u001b[0m\n\u001b[0;32m-> 1321\u001b[0;31m         return_value = get_return_value(\n\u001b[0m\u001b[1;32m   1322\u001b[0m             answer, self.gateway_client, self.target_id, self.name)\n\u001b[1;32m   1323\u001b[0m \u001b[0;34m\u001b[0m\u001b[0m\n",
      "\u001b[0;32m/usr/lib/spark/python/pyspark/sql/utils.py\u001b[0m in \u001b[0;36mdeco\u001b[0;34m(*a, **kw)\u001b[0m\n\u001b[1;32m    194\u001b[0m                 \u001b[0;31m# Hide where the exception came from that shows a non-Pythonic\u001b[0m\u001b[0;34m\u001b[0m\u001b[0;34m\u001b[0m\u001b[0m\n\u001b[1;32m    195\u001b[0m                 \u001b[0;31m# JVM exception message.\u001b[0m\u001b[0;34m\u001b[0m\u001b[0;34m\u001b[0m\u001b[0m\n\u001b[0;32m--> 196\u001b[0;31m                 \u001b[0;32mraise\u001b[0m \u001b[0mconverted\u001b[0m \u001b[0;32mfrom\u001b[0m \u001b[0;32mNone\u001b[0m\u001b[0;34m\u001b[0m\u001b[0;34m\u001b[0m\u001b[0m\n\u001b[0m\u001b[1;32m    197\u001b[0m             \u001b[0;32melse\u001b[0m\u001b[0;34m:\u001b[0m\u001b[0;34m\u001b[0m\u001b[0;34m\u001b[0m\u001b[0m\n\u001b[1;32m    198\u001b[0m                 \u001b[0;32mraise\u001b[0m\u001b[0;34m\u001b[0m\u001b[0;34m\u001b[0m\u001b[0m\n",
      "\u001b[0;31mAnalysisException\u001b[0m: Column 'datatypeId' does not exist. Did you mean one of the following? [datatypeIds, targetId];\n'Filter ((Contains('datatypeId, genetic_association) OR Contains('datatypeId, animal_model)) OR Contains('datatypeId, rna_expression))\n+- Aggregate [targetId#1262], [targetId#1262, concat_ws(;, collect_list(datatypeId#1263, 0, 0)) AS datatypeIds#1278]\n   +- Filter (diseaseId#1261 = EFO_0003767)\n      +- Relation [diseaseId#1261,targetId#1262,datatypeId#1263,score#1264,evidenceCount#1265L] parquet\n"
     ]
    }
   ],
   "source": [
    "# Filter to only genetic_association (any), animal_model, rna_expression\n",
    "\n",
    "targets_ibd_filter = targets_ibd_ByDatatype.filter(\n",
    "        F.col(\"datatypeId\").contains(\"genetic_association\") |\n",
    "        F.col(\"datatypeId\").contains(\"animal_model\") |\n",
    "        F.col(\"datatypeId\").contains(\"rna_expression\"))\n",
    "\n",
    "targets_ibd_pd = targets_ibd_filter.toPandas()\n",
    "targets_ibd_pd"
   ]
  },
  {
   "cell_type": "markdown",
   "metadata": {},
   "source": [
    "### Export dataset with known IBD drug targets"
   ]
  },
  {
   "cell_type": "code",
   "execution_count": 9,
   "metadata": {},
   "outputs": [
    {
     "data": {
      "text/plain": [
       "275"
      ]
     },
     "execution_count": 9,
     "metadata": {},
     "output_type": "execute_result"
    }
   ],
   "source": [
    "drug_targets = evidence_ibd.filter(col(\"datasourceId\").contains(\"chembl\"))\n",
    "drug_targets.count()"
   ]
  },
  {
   "cell_type": "code",
   "execution_count": 10,
   "metadata": {},
   "outputs": [
    {
     "data": {
      "text/html": [
       "<div>\n",
       "<style scoped>\n",
       "    .dataframe tbody tr th:only-of-type {\n",
       "        vertical-align: middle;\n",
       "    }\n",
       "\n",
       "    .dataframe tbody tr th {\n",
       "        vertical-align: top;\n",
       "    }\n",
       "\n",
       "    .dataframe thead th {\n",
       "        text-align: right;\n",
       "    }\n",
       "</style>\n",
       "<table border=\"1\" class=\"dataframe\">\n",
       "  <thead>\n",
       "    <tr style=\"text-align: right;\">\n",
       "      <th></th>\n",
       "      <th>datatypeId</th>\n",
       "      <th>datasourceId</th>\n",
       "      <th>diseaseId</th>\n",
       "      <th>targetId</th>\n",
       "      <th>score</th>\n",
       "      <th>evidenceCount</th>\n",
       "    </tr>\n",
       "  </thead>\n",
       "  <tbody>\n",
       "    <tr>\n",
       "      <th>0</th>\n",
       "      <td>known_drug</td>\n",
       "      <td>chembl</td>\n",
       "      <td>EFO_0003767</td>\n",
       "      <td>ENSG00000004779</td>\n",
       "      <td>0.165492</td>\n",
       "      <td>3</td>\n",
       "    </tr>\n",
       "    <tr>\n",
       "      <th>1</th>\n",
       "      <td>known_drug</td>\n",
       "      <td>chembl</td>\n",
       "      <td>EFO_0003767</td>\n",
       "      <td>ENSG00000006210</td>\n",
       "      <td>0.143539</td>\n",
       "      <td>3</td>\n",
       "    </tr>\n",
       "    <tr>\n",
       "      <th>2</th>\n",
       "      <td>known_drug</td>\n",
       "      <td>chembl</td>\n",
       "      <td>EFO_0003767</td>\n",
       "      <td>ENSG00000007314</td>\n",
       "      <td>0.788195</td>\n",
       "      <td>7</td>\n",
       "    </tr>\n",
       "    <tr>\n",
       "      <th>3</th>\n",
       "      <td>known_drug</td>\n",
       "      <td>chembl</td>\n",
       "      <td>EFO_0003767</td>\n",
       "      <td>ENSG00000010671</td>\n",
       "      <td>0.151983</td>\n",
       "      <td>2</td>\n",
       "    </tr>\n",
       "    <tr>\n",
       "      <th>4</th>\n",
       "      <td>known_drug</td>\n",
       "      <td>chembl</td>\n",
       "      <td>EFO_0003767</td>\n",
       "      <td>ENSG00000011677</td>\n",
       "      <td>0.870818</td>\n",
       "      <td>7</td>\n",
       "    </tr>\n",
       "    <tr>\n",
       "      <th>...</th>\n",
       "      <td>...</td>\n",
       "      <td>...</td>\n",
       "      <td>...</td>\n",
       "      <td>...</td>\n",
       "      <td>...</td>\n",
       "      <td>...</td>\n",
       "    </tr>\n",
       "    <tr>\n",
       "      <th>270</th>\n",
       "      <td>known_drug</td>\n",
       "      <td>chembl</td>\n",
       "      <td>EFO_0003767</td>\n",
       "      <td>ENSG00000267855</td>\n",
       "      <td>0.165492</td>\n",
       "      <td>3</td>\n",
       "    </tr>\n",
       "    <tr>\n",
       "      <th>271</th>\n",
       "      <td>known_drug</td>\n",
       "      <td>chembl</td>\n",
       "      <td>EFO_0003767</td>\n",
       "      <td>ENSG00000268089</td>\n",
       "      <td>0.607931</td>\n",
       "      <td>1</td>\n",
       "    </tr>\n",
       "    <tr>\n",
       "      <th>272</th>\n",
       "      <td>known_drug</td>\n",
       "      <td>chembl</td>\n",
       "      <td>EFO_0003767</td>\n",
       "      <td>ENSG00000273079</td>\n",
       "      <td>0.030397</td>\n",
       "      <td>1</td>\n",
       "    </tr>\n",
       "    <tr>\n",
       "      <th>273</th>\n",
       "      <td>known_drug</td>\n",
       "      <td>chembl</td>\n",
       "      <td>EFO_0003767</td>\n",
       "      <td>ENSG00000274286</td>\n",
       "      <td>0.121586</td>\n",
       "      <td>1</td>\n",
       "    </tr>\n",
       "    <tr>\n",
       "      <th>274</th>\n",
       "      <td>known_drug</td>\n",
       "      <td>chembl</td>\n",
       "      <td>EFO_0003767</td>\n",
       "      <td>ENSG00000282608</td>\n",
       "      <td>0.770468</td>\n",
       "      <td>4</td>\n",
       "    </tr>\n",
       "  </tbody>\n",
       "</table>\n",
       "<p>275 rows × 6 columns</p>\n",
       "</div>"
      ],
      "text/plain": [
       "     datatypeId datasourceId    diseaseId         targetId     score  \\\n",
       "0    known_drug       chembl  EFO_0003767  ENSG00000004779  0.165492   \n",
       "1    known_drug       chembl  EFO_0003767  ENSG00000006210  0.143539   \n",
       "2    known_drug       chembl  EFO_0003767  ENSG00000007314  0.788195   \n",
       "3    known_drug       chembl  EFO_0003767  ENSG00000010671  0.151983   \n",
       "4    known_drug       chembl  EFO_0003767  ENSG00000011677  0.870818   \n",
       "..          ...          ...          ...              ...       ...   \n",
       "270  known_drug       chembl  EFO_0003767  ENSG00000267855  0.165492   \n",
       "271  known_drug       chembl  EFO_0003767  ENSG00000268089  0.607931   \n",
       "272  known_drug       chembl  EFO_0003767  ENSG00000273079  0.030397   \n",
       "273  known_drug       chembl  EFO_0003767  ENSG00000274286  0.121586   \n",
       "274  known_drug       chembl  EFO_0003767  ENSG00000282608  0.770468   \n",
       "\n",
       "     evidenceCount  \n",
       "0                3  \n",
       "1                3  \n",
       "2                7  \n",
       "3                2  \n",
       "4                7  \n",
       "..             ...  \n",
       "270              3  \n",
       "271              1  \n",
       "272              1  \n",
       "273              1  \n",
       "274              4  \n",
       "\n",
       "[275 rows x 6 columns]"
      ]
     },
     "execution_count": 10,
     "metadata": {},
     "output_type": "execute_result"
    }
   ],
   "source": [
    "drug_targets_pd = drug_targets.toPandas()\n",
    "drug_targets_pd"
   ]
  },
  {
   "cell_type": "code",
   "execution_count": 11,
   "metadata": {},
   "outputs": [],
   "source": [
    "drug_targets_pd.to_csv(\"ibd_drug_targets.csv\", index=False)"
   ]
  },
  {
   "cell_type": "code",
   "execution_count": null,
   "metadata": {},
   "outputs": [],
   "source": []
  },
  {
   "cell_type": "code",
   "execution_count": null,
   "metadata": {},
   "outputs": [],
   "source": []
  }
 ],
 "metadata": {
  "kernelspec": {
   "display_name": "Python 3",
   "language": "python",
   "name": "python3"
  },
  "language_info": {
   "codemirror_mode": {
    "name": "ipython",
    "version": 3
   },
   "file_extension": ".py",
   "mimetype": "text/x-python",
   "name": "python",
   "nbconvert_exporter": "python",
   "pygments_lexer": "ipython3",
   "version": "3.10.8"
  }
 },
 "nbformat": 4,
 "nbformat_minor": 2
}
