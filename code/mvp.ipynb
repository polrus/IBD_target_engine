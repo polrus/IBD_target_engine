{
 "cells": [
  {
   "cell_type": "code",
   "execution_count": 7,
   "metadata": {},
   "outputs": [],
   "source": [
    "from pyspark.sql import SparkSession\n",
    "import pyspark.sql.functions as f\n",
    "from pyspark.sql import DataFrame\n",
    "from pyspark.sql.types import StructType, StructField, StringType, IntegerType, FloatType, ArrayType\n",
    "from pyspark.sql.functions import col, explode, expr, collect_list, when, concat_ws, first, sum, lit, collect_set, split, udf, countDistinct\n"
   ]
  },
  {
   "cell_type": "code",
   "execution_count": 8,
   "metadata": {},
   "outputs": [
    {
     "name": "stderr",
     "output_type": "stream",
     "text": [
      "Setting default log level to \"WARN\".\n",
      "To adjust logging level use sc.setLogLevel(newLevel). For SparkR, use setLogLevel(newLevel).\n",
      "24/03/21 15:51:35 INFO SparkEnv: Registering MapOutputTracker\n",
      "24/03/21 15:51:35 INFO SparkEnv: Registering BlockManagerMaster\n",
      "24/03/21 15:51:35 INFO SparkEnv: Registering BlockManagerMasterHeartbeat\n",
      "24/03/21 15:51:35 INFO SparkEnv: Registering OutputCommitCoordinator\n"
     ]
    }
   ],
   "source": [
    "spark = SparkSession.builder.getOrCreate()"
   ]
  },
  {
   "cell_type": "markdown",
   "metadata": {},
   "source": [
    "## Target prioritisation validation based on Open Targets genetic score for IBD"
   ]
  },
  {
   "cell_type": "markdown",
   "metadata": {},
   "source": [
    "### Export Target-IBD associations from Open Targets platform\n",
    "##### Sources of evidence: Genetic evidence (excluding PanelApp, gene2phenotype, Orphanet, Clingen), Animal models, Expression Atlas"
   ]
  },
  {
   "cell_type": "code",
   "execution_count": 10,
   "metadata": {},
   "outputs": [
    {
     "name": "stdout",
     "output_type": "stream",
     "text": [
      "+----------------+------------+-----------+---------------+-------------------+-------------+\n",
      "|      datatypeId|datasourceId|  diseaseId|       targetId|              score|evidenceCount|\n",
      "+----------------+------------+-----------+---------------+-------------------+-------------+\n",
      "|somatic_mutation|     intogen|EFO_0000403|ENSG00000005339| 0.8500001162170453|            4|\n",
      "|somatic_mutation|     intogen|EFO_0000403|ENSG00000007312| 0.8274613634158176|            3|\n",
      "|somatic_mutation|     intogen|EFO_0000403|ENSG00000026103|0.30495492429621884|            1|\n",
      "|somatic_mutation|     intogen|EFO_0000403|ENSG00000028277| 0.7425494385684972|            2|\n",
      "|somatic_mutation|     intogen|EFO_0000403|ENSG00000046889|0.22381956059563865|            1|\n",
      "|somatic_mutation|     intogen|EFO_0000403|ENSG00000049618| 0.2423224679487867|            1|\n",
      "|somatic_mutation|     intogen|EFO_0000403|ENSG00000057657|0.39907695545334443|            2|\n",
      "|somatic_mutation|     intogen|EFO_0000403|ENSG00000065526|  0.662808213293118|            3|\n",
      "|somatic_mutation|     intogen|EFO_0000403|ENSG00000067560|0.35418528743787364|            2|\n",
      "|somatic_mutation|     intogen|EFO_0000403|ENSG00000070756| 0.3652836856037016|            2|\n",
      "|somatic_mutation|     intogen|EFO_0000403|ENSG00000077150|0.27799839121947273|            1|\n",
      "|somatic_mutation|     intogen|EFO_0000403|ENSG00000077721| 0.5745810040700662|            1|\n",
      "|somatic_mutation|     intogen|EFO_0000403|ENSG00000081237|0.29503532976214275|            1|\n",
      "|somatic_mutation|     intogen|EFO_0000403|ENSG00000082898| 0.6907433682764471|            3|\n",
      "|somatic_mutation|     intogen|EFO_0000403|ENSG00000100393|0.48346560873224026|            3|\n",
      "|somatic_mutation|     intogen|EFO_0000403|ENSG00000100721|0.30743908264347314|            1|\n",
      "|somatic_mutation|     intogen|EFO_0000403|ENSG00000100906| 0.6962345777174906|            2|\n",
      "|somatic_mutation|     intogen|EFO_0000403|ENSG00000104885|0.38388657149755184|            1|\n",
      "|somatic_mutation|     intogen|EFO_0000403|ENSG00000106462| 0.8274613634158176|            3|\n",
      "|somatic_mutation|     intogen|EFO_0000403|ENSG00000110987|0.16983691526111797|            1|\n",
      "+----------------+------------+-----------+---------------+-------------------+-------------+\n",
      "only showing top 20 rows\n",
      "\n"
     ]
    }
   ],
   "source": [
    "# Target-Disease indirect (propagated) evidence from Open Targets Platform\n",
    "evidence_path = \"gs://open-targets-data-releases/23.12/output/etl/parquet/associationByDatasourceIndirect\"\n",
    "evidence = spark.read.parquet(evidence_path)\n",
    "evidence.show()"
   ]
  },
  {
   "cell_type": "code",
   "execution_count": 15,
   "metadata": {},
   "outputs": [
    {
     "name": "stderr",
     "output_type": "stream",
     "text": [
      "24/03/21 15:56:23 WARN CacheManager: Asked to cache already cached data.\n"
     ]
    }
   ],
   "source": [
    "# Filter to only IBD associations\n",
    "evidence_ibd = evidence.filter(\n",
    "    (col(\"diseaseId\") == \"EFO_0003767\") \n",
    ").persist()\n",
    "\n",
    "# Filter to only IBD associations\n",
    "evidence_ibd_by_target = evidence_ibd. \\\n",
    "    groupBy(\"targetId\"). \\\n",
    "    agg(concat_ws(\";\", collect_list(\"datasourceId\")).alias(\"datasourceId\"),\n",
    "        concat_ws(\";\", collect_list(\"datatypeId\")).alias(\"datatypeId\")).persist()"
   ]
  },
  {
   "cell_type": "code",
   "execution_count": 16,
   "metadata": {},
   "outputs": [],
   "source": [
    "def show_unique_values_and_counts(df: DataFrame, column_name: str):\n",
    "    \"\"\"\n",
    "    Shows unique values and their counts for a specified column in a Spark DataFrame.\n",
    "\n",
    "    Parameters:\n",
    "    df (DataFrame): The Spark DataFrame to analyze.\n",
    "    column_name (str): The name of the column for which to count unique values.\n",
    "    \"\"\"\n",
    "    if column_name not in df.columns:\n",
    "        raise ValueError(f\"Column {column_name} not found in DataFrame\")\n",
    "\n",
    "    unique_values_counts = df.groupBy(column_name).count()\n",
    "    unique_values_counts.show()"
   ]
  },
  {
   "cell_type": "code",
   "execution_count": 18,
   "metadata": {},
   "outputs": [
    {
     "name": "stdout",
     "output_type": "stream",
     "text": [
      "+------------------+-----+\n",
      "|      datasourceId|count|\n",
      "+------------------+-----+\n",
      "|         europepmc| 5714|\n",
      "|  uniprot_variants|    5|\n",
      "|  genomics_england|   15|\n",
      "|       gene_burden|    3|\n",
      "|            chembl|  275|\n",
      "|  expression_atlas|  546|\n",
      "|          orphanet|    7|\n",
      "|            sysbio|  205|\n",
      "|cancer_gene_census|   79|\n",
      "|               eva|   26|\n",
      "|uniprot_literature|    9|\n",
      "|       eva_somatic|    1|\n",
      "|ot_genetics_portal| 1275|\n",
      "|              impc|  589|\n",
      "+------------------+-----+\n",
      "\n"
     ]
    }
   ],
   "source": [
    "show_unique_values_and_counts(evidence_ibd, \"datasourceId\")"
   ]
  },
  {
   "cell_type": "code",
   "execution_count": null,
   "metadata": {},
   "outputs": [],
   "source": []
  },
  {
   "cell_type": "code",
   "execution_count": null,
   "metadata": {},
   "outputs": [],
   "source": []
  },
  {
   "cell_type": "code",
   "execution_count": null,
   "metadata": {},
   "outputs": [],
   "source": []
  },
  {
   "cell_type": "markdown",
   "metadata": {},
   "source": [
    "### Export dataset with known IBD drug targets"
   ]
  },
  {
   "cell_type": "code",
   "execution_count": null,
   "metadata": {},
   "outputs": [],
   "source": []
  },
  {
   "cell_type": "code",
   "execution_count": null,
   "metadata": {},
   "outputs": [],
   "source": []
  },
  {
   "cell_type": "markdown",
   "metadata": {},
   "source": [
    "### Calculate % of drug targets in first x targets from ranked list"
   ]
  },
  {
   "cell_type": "code",
   "execution_count": null,
   "metadata": {},
   "outputs": [],
   "source": []
  },
  {
   "cell_type": "code",
   "execution_count": null,
   "metadata": {},
   "outputs": [],
   "source": []
  },
  {
   "cell_type": "code",
   "execution_count": null,
   "metadata": {},
   "outputs": [],
   "source": []
  }
 ],
 "metadata": {
  "kernelspec": {
   "display_name": "Python 3",
   "language": "python",
   "name": "python3"
  },
  "language_info": {
   "codemirror_mode": {
    "name": "ipython",
    "version": 3
   },
   "file_extension": ".py",
   "mimetype": "text/x-python",
   "name": "python",
   "nbconvert_exporter": "python",
   "pygments_lexer": "ipython3",
   "version": "3.9.2"
  }
 },
 "nbformat": 4,
 "nbformat_minor": 2
}
