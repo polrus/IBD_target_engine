{
 "cells": [
  {
   "cell_type": "code",
   "execution_count": 1,
   "metadata": {},
   "outputs": [],
   "source": [
    "from pyspark.sql import SparkSession\n",
    "import pyspark.sql.functions as F\n",
    "from pyspark.sql import DataFrame\n",
    "from pyspark.sql.functions import col, concat_ws, collect_list\n",
    "\n",
    "import pandas as pd\n",
    "import numpy as np"
   ]
  },
  {
   "cell_type": "code",
   "execution_count": 2,
   "metadata": {},
   "outputs": [
    {
     "name": "stderr",
     "output_type": "stream",
     "text": [
      "Setting default log level to \"WARN\".\n",
      "To adjust logging level use sc.setLogLevel(newLevel). For SparkR, use setLogLevel(newLevel).\n",
      "24/04/23 10:53:14 INFO SparkEnv: Registering MapOutputTracker\n",
      "24/04/23 10:53:14 INFO SparkEnv: Registering BlockManagerMaster\n",
      "24/04/23 10:53:14 INFO SparkEnv: Registering BlockManagerMasterHeartbeat\n",
      "24/04/23 10:53:14 INFO SparkEnv: Registering OutputCommitCoordinator\n"
     ]
    }
   ],
   "source": [
    "spark = SparkSession.builder.getOrCreate()"
   ]
  },
  {
   "cell_type": "markdown",
   "metadata": {},
   "source": [
    "### Export dataset with known IBD drug targets"
   ]
  },
  {
   "cell_type": "code",
   "execution_count": null,
   "metadata": {},
   "outputs": [],
   "source": [
    "# Target-Disease indirect (propagated) evidence from Open Targets Platform\n",
    "evidence_path = \"gs://open-targets-data-releases/23.12/output/etl/parquet/associationByDatatypeIndirect\"\n",
    "evidence = spark.read.parquet(evidence_path)\n",
    "evidence.persist()\n",
    "\n",
    "# Filter to only IBD associations\n",
    "evidence_ibd = evidence.filter(\n",
    "    (col(\"diseaseId\") == \"EFO_0003767\") \n",
    ").persist()"
   ]
  },
  {
   "cell_type": "code",
   "execution_count": 9,
   "metadata": {},
   "outputs": [
    {
     "data": {
      "text/plain": [
       "275"
      ]
     },
     "execution_count": 9,
     "metadata": {},
     "output_type": "execute_result"
    }
   ],
   "source": [
    "drug_targets = evidence_ibd.filter(col(\"datasourceId\").contains(\"chembl\"))\n",
    "drug_targets.count()"
   ]
  },
  {
   "cell_type": "code",
   "execution_count": 10,
   "metadata": {},
   "outputs": [
    {
     "data": {
      "text/html": [
       "<div>\n",
       "<style scoped>\n",
       "    .dataframe tbody tr th:only-of-type {\n",
       "        vertical-align: middle;\n",
       "    }\n",
       "\n",
       "    .dataframe tbody tr th {\n",
       "        vertical-align: top;\n",
       "    }\n",
       "\n",
       "    .dataframe thead th {\n",
       "        text-align: right;\n",
       "    }\n",
       "</style>\n",
       "<table border=\"1\" class=\"dataframe\">\n",
       "  <thead>\n",
       "    <tr style=\"text-align: right;\">\n",
       "      <th></th>\n",
       "      <th>datatypeId</th>\n",
       "      <th>datasourceId</th>\n",
       "      <th>diseaseId</th>\n",
       "      <th>targetId</th>\n",
       "      <th>score</th>\n",
       "      <th>evidenceCount</th>\n",
       "    </tr>\n",
       "  </thead>\n",
       "  <tbody>\n",
       "    <tr>\n",
       "      <th>0</th>\n",
       "      <td>known_drug</td>\n",
       "      <td>chembl</td>\n",
       "      <td>EFO_0003767</td>\n",
       "      <td>ENSG00000004779</td>\n",
       "      <td>0.165492</td>\n",
       "      <td>3</td>\n",
       "    </tr>\n",
       "    <tr>\n",
       "      <th>1</th>\n",
       "      <td>known_drug</td>\n",
       "      <td>chembl</td>\n",
       "      <td>EFO_0003767</td>\n",
       "      <td>ENSG00000006210</td>\n",
       "      <td>0.143539</td>\n",
       "      <td>3</td>\n",
       "    </tr>\n",
       "    <tr>\n",
       "      <th>2</th>\n",
       "      <td>known_drug</td>\n",
       "      <td>chembl</td>\n",
       "      <td>EFO_0003767</td>\n",
       "      <td>ENSG00000007314</td>\n",
       "      <td>0.788195</td>\n",
       "      <td>7</td>\n",
       "    </tr>\n",
       "    <tr>\n",
       "      <th>3</th>\n",
       "      <td>known_drug</td>\n",
       "      <td>chembl</td>\n",
       "      <td>EFO_0003767</td>\n",
       "      <td>ENSG00000010671</td>\n",
       "      <td>0.151983</td>\n",
       "      <td>2</td>\n",
       "    </tr>\n",
       "    <tr>\n",
       "      <th>4</th>\n",
       "      <td>known_drug</td>\n",
       "      <td>chembl</td>\n",
       "      <td>EFO_0003767</td>\n",
       "      <td>ENSG00000011677</td>\n",
       "      <td>0.870818</td>\n",
       "      <td>7</td>\n",
       "    </tr>\n",
       "    <tr>\n",
       "      <th>...</th>\n",
       "      <td>...</td>\n",
       "      <td>...</td>\n",
       "      <td>...</td>\n",
       "      <td>...</td>\n",
       "      <td>...</td>\n",
       "      <td>...</td>\n",
       "    </tr>\n",
       "    <tr>\n",
       "      <th>270</th>\n",
       "      <td>known_drug</td>\n",
       "      <td>chembl</td>\n",
       "      <td>EFO_0003767</td>\n",
       "      <td>ENSG00000267855</td>\n",
       "      <td>0.165492</td>\n",
       "      <td>3</td>\n",
       "    </tr>\n",
       "    <tr>\n",
       "      <th>271</th>\n",
       "      <td>known_drug</td>\n",
       "      <td>chembl</td>\n",
       "      <td>EFO_0003767</td>\n",
       "      <td>ENSG00000268089</td>\n",
       "      <td>0.607931</td>\n",
       "      <td>1</td>\n",
       "    </tr>\n",
       "    <tr>\n",
       "      <th>272</th>\n",
       "      <td>known_drug</td>\n",
       "      <td>chembl</td>\n",
       "      <td>EFO_0003767</td>\n",
       "      <td>ENSG00000273079</td>\n",
       "      <td>0.030397</td>\n",
       "      <td>1</td>\n",
       "    </tr>\n",
       "    <tr>\n",
       "      <th>273</th>\n",
       "      <td>known_drug</td>\n",
       "      <td>chembl</td>\n",
       "      <td>EFO_0003767</td>\n",
       "      <td>ENSG00000274286</td>\n",
       "      <td>0.121586</td>\n",
       "      <td>1</td>\n",
       "    </tr>\n",
       "    <tr>\n",
       "      <th>274</th>\n",
       "      <td>known_drug</td>\n",
       "      <td>chembl</td>\n",
       "      <td>EFO_0003767</td>\n",
       "      <td>ENSG00000282608</td>\n",
       "      <td>0.770468</td>\n",
       "      <td>4</td>\n",
       "    </tr>\n",
       "  </tbody>\n",
       "</table>\n",
       "<p>275 rows × 6 columns</p>\n",
       "</div>"
      ],
      "text/plain": [
       "     datatypeId datasourceId    diseaseId         targetId     score  \\\n",
       "0    known_drug       chembl  EFO_0003767  ENSG00000004779  0.165492   \n",
       "1    known_drug       chembl  EFO_0003767  ENSG00000006210  0.143539   \n",
       "2    known_drug       chembl  EFO_0003767  ENSG00000007314  0.788195   \n",
       "3    known_drug       chembl  EFO_0003767  ENSG00000010671  0.151983   \n",
       "4    known_drug       chembl  EFO_0003767  ENSG00000011677  0.870818   \n",
       "..          ...          ...          ...              ...       ...   \n",
       "270  known_drug       chembl  EFO_0003767  ENSG00000267855  0.165492   \n",
       "271  known_drug       chembl  EFO_0003767  ENSG00000268089  0.607931   \n",
       "272  known_drug       chembl  EFO_0003767  ENSG00000273079  0.030397   \n",
       "273  known_drug       chembl  EFO_0003767  ENSG00000274286  0.121586   \n",
       "274  known_drug       chembl  EFO_0003767  ENSG00000282608  0.770468   \n",
       "\n",
       "     evidenceCount  \n",
       "0                3  \n",
       "1                3  \n",
       "2                7  \n",
       "3                2  \n",
       "4                7  \n",
       "..             ...  \n",
       "270              3  \n",
       "271              1  \n",
       "272              1  \n",
       "273              1  \n",
       "274              4  \n",
       "\n",
       "[275 rows x 6 columns]"
      ]
     },
     "execution_count": 10,
     "metadata": {},
     "output_type": "execute_result"
    }
   ],
   "source": [
    "drug_targets_pd = drug_targets.toPandas()\n",
    "drug_targets_pd"
   ]
  },
  {
   "cell_type": "code",
   "execution_count": 11,
   "metadata": {},
   "outputs": [],
   "source": [
    "drug_targets_pd.to_csv(\"ibd_drug_targets.csv\", index=False)"
   ]
  }
 ],
 "metadata": {
  "kernelspec": {
   "display_name": "Python 3",
   "language": "python",
   "name": "python3"
  },
  "language_info": {
   "codemirror_mode": {
    "name": "ipython",
    "version": 3
   },
   "file_extension": ".py",
   "mimetype": "text/x-python",
   "name": "python",
   "nbconvert_exporter": "python",
   "pygments_lexer": "ipython3",
   "version": "3.9.6"
  }
 },
 "nbformat": 4,
 "nbformat_minor": 2
}
